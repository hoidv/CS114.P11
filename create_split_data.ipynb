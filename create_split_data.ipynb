{
  "nbformat": 4,
  "nbformat_minor": 0,
  "metadata": {
    "colab": {
      "provenance": [],
      "authorship_tag": "ABX9TyPHaFU9yV8AAz9SKrzEziZl",
      "include_colab_link": true
    },
    "kernelspec": {
      "name": "python3",
      "display_name": "Python 3"
    },
    "language_info": {
      "name": "python"
    }
  },
  "cells": [
    {
      "cell_type": "markdown",
      "metadata": {
        "id": "view-in-github",
        "colab_type": "text"
      },
      "source": [
        "<a href=\"https://colab.research.google.com/github/hoidv/CS114.P11/blob/main/create_split_data.ipynb\" target=\"_parent\"><img src=\"https://colab.research.google.com/assets/colab-badge.svg\" alt=\"Open In Colab\"/></a>"
      ]
    },
    {
      "cell_type": "code",
      "source": [
        "from google.colab import drive\n",
        "drive.mount('/content/drive')"
      ],
      "metadata": {
        "colab": {
          "base_uri": "https://localhost:8080/"
        },
        "id": "UyH6UkVaTEej",
        "outputId": "6b06b53f-2fb3-4641-d5b1-6ee439e77b23"
      },
      "execution_count": 2,
      "outputs": [
        {
          "output_type": "stream",
          "name": "stdout",
          "text": [
            "Mounted at /content/drive\n"
          ]
        }
      ]
    },
    {
      "cell_type": "code",
      "source": [
        "root_directory = '/content/drive/MyDrive/Public'"
      ],
      "metadata": {
        "id": "6ymP-SKyUi1M"
      },
      "execution_count": 3,
      "outputs": []
    },
    {
      "cell_type": "code",
      "source": [
        "def check_valid_and_parse_filename(filename):\n",
        "    #Kiểm tra đuôi file\n",
        "    name, extension = os.path.splitext(filename)\n",
        "    if extension not in [\".jpg\", \".jpeg\", \".png\"]:\n",
        "        return None, None, None\n",
        "\n",
        "    #Tách theo dấu \".\"\n",
        "    parts = name.split(\".\")\n",
        "    if len(parts) == 3:\n",
        "        mssv_part, brand, order = parts[0], parts[1], parts[2]\n",
        "        contributions = mssv_part.split(\"-\")\n",
        "\n",
        "        #Kiểm tra kiểu dữ liệu mssv, stt\n",
        "        num_pattern = r\"^\\d+$\"\n",
        "        if re.match(num_pattern, order) == None:\n",
        "          return None, None, None\n",
        "        for contribute in contributions:\n",
        "          if re.match(num_pattern, contribute) == None:\n",
        "            return None, None, None\n",
        "\n",
        "        return contributions, brand, order\n",
        "    return None, None, None"
      ],
      "metadata": {
        "id": "t788nStoFJ4f"
      },
      "execution_count": 4,
      "outputs": []
    },
    {
      "cell_type": "code",
      "source": [
        "import csv\n",
        "import re\n",
        "import os\n",
        "\n",
        "cars_brand_set = {'Others': 0,\n",
        "                  'Honda' : 1,\n",
        "                  'Hyundai' : 2,\n",
        "                  'KIA' : 3,\n",
        "                  'Mazda' : 4,\n",
        "                  'Mitsubishi' : 5,\n",
        "                  'Suzuki' : 6,\n",
        "                  'Toyota' : 7,\n",
        "                  'VinFast': 8}\n",
        "\n",
        "colab_path = '/content/drive/MyDrive/Colab_Notebooks/data'\n",
        "os.makedirs(colab_path, exist_ok=True)\n",
        "data_path = os.path.join(colab_path, \"CarDataset.csv\")\n",
        "\n",
        "with open(data_path, mode='w', newline='', encoding='utf-8') as file:\n",
        "  writer = csv.writer(file)\n",
        "  writer.writerow([\"Path\", \"CategoryID\"])\n",
        "  for car_brand in cars_brand_set.keys():\n",
        "    brand_path = os.path.join(root_directory, car_brand)\n",
        "    for file in os.listdir(brand_path):\n",
        "        contributions, brand, order = check_valid_and_parse_filename(file)\n",
        "        if contributions != None:\n",
        "\n",
        "          #Kiểm tra brand trong tên file có giống theo định dạng brand trong thư mục không\n",
        "          brand_pattern = rf\"^{car_brand}$\"\n",
        "          match_brand = re.match(brand_pattern, brand)\n",
        "          if match_brand != None:\n",
        "            writer.writerow([f\"{car_brand}/{file}\", str(cars_brand_set[car_brand])])"
      ],
      "metadata": {
        "id": "jnzV3NFoNIm4"
      },
      "execution_count": 16,
      "outputs": []
    },
    {
      "cell_type": "code",
      "source": [
        "!ls {colab_path}"
      ],
      "metadata": {
        "colab": {
          "base_uri": "https://localhost:8080/"
        },
        "id": "Z4wRUe6FQn_o",
        "outputId": "1be12dc9-4fef-460b-89a4-5a6f48560c91"
      },
      "execution_count": 15,
      "outputs": [
        {
          "output_type": "stream",
          "name": "stdout",
          "text": [
            "CarDataset.csv\n"
          ]
        }
      ]
    },
    {
      "cell_type": "code",
      "source": [
        "import pandas as pd\n",
        "all_brand_df = pd.read_csv(data_path)\n",
        "\n",
        "#Tạo từ điển lưu DataFrame cho từng car_brand\n",
        "brand_data = {}\n",
        "for car_brand in cars_brand_set:\n",
        "  brand_data[car_brand] = all_brand_df[all_brand_df['CategoryID'] == cars_brand_set[car_brand]]"
      ],
      "metadata": {
        "id": "ubrNtq-DPpEK"
      },
      "execution_count": 18,
      "outputs": []
    },
    {
      "cell_type": "code",
      "source": [
        "from sklearn.model_selection import KFold\n",
        "\n",
        "kf = KFold(n_splits=5, shuffle=True, random_state=42)\n",
        "\n",
        "#Tạo X_train gồm 5 dict mỗi dict là một fold\n",
        "X_train = [dict() for _ in range(5)]\n",
        "X_val = [dict() for _ in range(5)]\n",
        "\n",
        "#Duyệt qua từng hãng xe tạo fold cho từng hiệu xe\n",
        "for car_brand in cars_brand_set.keys():\n",
        "  for i, (train_index, val_index) in enumerate(kf.split(brand_data[car_brand])):\n",
        "    X_train[i][car_brand] = train_index\n",
        "    X_val[i][car_brand] = val_index\n"
      ],
      "metadata": {
        "id": "RTUvzVNeYFvw"
      },
      "execution_count": 19,
      "outputs": []
    },
    {
      "cell_type": "code",
      "source": [
        "#Duyệt qua 5 fold\n",
        "import os\n",
        "\n",
        "colab_path = '/content/drive/MyDrive/Colab Notebooks/data'\n",
        "os.makedirs(colab_path, exist_ok=True)\n",
        "\n",
        "for fold_num in range(5):\n",
        "\n",
        "  #Tạo file CarDataset_train\n",
        "  train_indices_by_brand = X_train[fold_num]\n",
        "  lst_brand_train_df = [brand_data[brand].iloc[train_indices_by_brand[brand]] for brand in cars_brand_set.keys()]\n",
        "  split_train_df = pd.concat(lst_brand_train_df, ignore_index=True)\n",
        "  split_train_path = os.path.join(colab_path, f\"CarDataset-Splits-{fold_num+1}-train.csv\")\n",
        "  split_train_df.to_csv(split_train_path, index=False)\n",
        "\n",
        "  #Tạo file CarDataset_val\n",
        "  val_indices_by_brand = X_val[fold_num]\n",
        "  lst_brand_val_df = [brand_data[brand].iloc[val_indices_by_brand[brand]] for brand in cars_brand_set.keys()]\n",
        "  split_val_df = pd.concat(lst_brand_val_df, ignore_index=True)\n",
        "  split_val_path = os.path.join(colab_path, f\"CarDataset-Splits-{fold_num+1}-val.csv\")\n",
        "  split_val_df.to_csv(split_val_path, index=False)"
      ],
      "metadata": {
        "id": "z7B3bdoZiNnq"
      },
      "execution_count": 20,
      "outputs": []
    }
  ]
}